{
  "nbformat": 4,
  "nbformat_minor": 0,
  "metadata": {
    "colab": {
      "provenance": [],
      "authorship_tag": "ABX9TyOgMWvufJ9EHSPRSN9T7WB/",
      "include_colab_link": true
    },
    "kernelspec": {
      "name": "python3",
      "display_name": "Python 3"
    },
    "language_info": {
      "name": "python"
    }
  },
  "cells": [
    {
      "cell_type": "markdown",
      "metadata": {
        "id": "view-in-github",
        "colab_type": "text"
      },
      "source": [
        "<a href=\"https://colab.research.google.com/github/Satya-Mohan/Condition-control-statements/blob/main/Untitled14.ipynb\" target=\"_parent\"><img src=\"https://colab.research.google.com/assets/colab-badge.svg\" alt=\"Open In Colab\"/></a>"
      ]
    },
    {
      "cell_type": "code",
      "source": [
        "pip install --upgrade keras"
      ],
      "metadata": {
        "colab": {
          "base_uri": "https://localhost:8080/"
        },
        "id": "uxPqC3bI0sHd",
        "outputId": "bc9f71ef-1536-438f-f2f5-9cc32e860522"
      },
      "execution_count": 39,
      "outputs": [
        {
          "output_type": "stream",
          "name": "stdout",
          "text": [
            "Looking in indexes: https://pypi.org/simple, https://us-python.pkg.dev/colab-wheels/public/simple/\n",
            "Requirement already satisfied: keras in /usr/local/lib/python3.9/dist-packages (2.12.0)\n"
          ]
        }
      ]
    },
    {
      "cell_type": "code",
      "source": [
        "import numpy as np\n",
        "import keras\n",
        "import tensorflow as tf\n",
        "from keras.layers import Dense\n",
        "from keras.models import Sequential\n",
        "from keras.layers import TextVectorization\n",
        "from keras.utils import pad_sequences"
      ],
      "metadata": {
        "id": "LWJxsg9p1CRo"
      },
      "execution_count": 40,
      "outputs": []
    },
    {
      "cell_type": "code",
      "source": [
        "texts = [\n",
        "    \"This movie is amazing!\",\n",
        "    \"This acting was terrible and the plot was boring.\",\n",
        "    \"I loved everthing about movie\",\n",
        "    \"The special effects were impressive but the story fell flat.\",\n",
        "    \"The dialogue was hilarious and the characters were engaging.\",\n",
        "    \"I couldn't even make it through this movie.It was that bad.\"\n",
        "]\n",
        "labels = np.array([1,0,1,0,1,0])\n"
      ],
      "metadata": {
        "id": "vdvVUAnc1HyC"
      },
      "execution_count": 41,
      "outputs": []
    },
    {
      "cell_type": "code",
      "source": [
        "max_len = 100\n",
        "vectorizer = TextVectorization(max_tokens=10000, output_mode='int',\n",
        "standardize = 'lower_and_strip_punctuation', split= 'whitespace',\n",
        "output_sequence_length=max_len,ngrams=2)"
      ],
      "metadata": {
        "id": "hyd92BP82Z8v"
      },
      "execution_count": 42,
      "outputs": []
    },
    {
      "cell_type": "code",
      "source": [
        "vectorizer.adapt(texts)\n",
        "vectorizer.get_vocabulary()"
      ],
      "metadata": {
        "colab": {
          "base_uri": "https://localhost:8080/"
        },
        "id": "VWVZFzlt3Ggh",
        "outputId": "bfdfb6fb-d44b-4357-a2a4-0423c1ae7f34"
      },
      "execution_count": 43,
      "outputs": [
        {
          "output_type": "execute_result",
          "data": {
            "text/plain": [
              "['',\n",
              " '[UNK]',\n",
              " 'the',\n",
              " 'was',\n",
              " 'this',\n",
              " 'were',\n",
              " 'movie',\n",
              " 'i',\n",
              " 'and the',\n",
              " 'and',\n",
              " 'were impressive',\n",
              " 'were engaging',\n",
              " 'was that',\n",
              " 'was terrible',\n",
              " 'was hilarious',\n",
              " 'was boring',\n",
              " 'through this',\n",
              " 'through',\n",
              " 'this movieit',\n",
              " 'this movie',\n",
              " 'this acting',\n",
              " 'the story',\n",
              " 'the special',\n",
              " 'the plot',\n",
              " 'the dialogue',\n",
              " 'the characters',\n",
              " 'that bad',\n",
              " 'that',\n",
              " 'terrible and',\n",
              " 'terrible',\n",
              " 'story fell',\n",
              " 'story',\n",
              " 'special effects',\n",
              " 'special',\n",
              " 'plot was',\n",
              " 'plot',\n",
              " 'movieit was',\n",
              " 'movieit',\n",
              " 'movie is',\n",
              " 'make it',\n",
              " 'make',\n",
              " 'loved everthing',\n",
              " 'loved',\n",
              " 'it through',\n",
              " 'it',\n",
              " 'is amazing',\n",
              " 'is',\n",
              " 'impressive but',\n",
              " 'impressive',\n",
              " 'i loved',\n",
              " 'i couldnt',\n",
              " 'hilarious and',\n",
              " 'hilarious',\n",
              " 'flat',\n",
              " 'fell flat',\n",
              " 'fell',\n",
              " 'everthing about',\n",
              " 'everthing',\n",
              " 'even make',\n",
              " 'even',\n",
              " 'engaging',\n",
              " 'effects were',\n",
              " 'effects',\n",
              " 'dialogue was',\n",
              " 'dialogue',\n",
              " 'couldnt even',\n",
              " 'couldnt',\n",
              " 'characters were',\n",
              " 'characters',\n",
              " 'but the',\n",
              " 'but',\n",
              " 'boring',\n",
              " 'bad',\n",
              " 'amazing',\n",
              " 'acting was',\n",
              " 'acting',\n",
              " 'about movie',\n",
              " 'about']"
            ]
          },
          "metadata": {},
          "execution_count": 43
        }
      ]
    },
    {
      "cell_type": "code",
      "source": [
        "X = vectorizer(texts)\n",
        "X = pad_sequences(X, maxlen=max_len)"
      ],
      "metadata": {
        "id": "mkH6WeE-3pnO"
      },
      "execution_count": 44,
      "outputs": []
    },
    {
      "cell_type": "code",
      "source": [
        "X\n"
      ],
      "metadata": {
        "colab": {
          "base_uri": "https://localhost:8080/"
        },
        "id": "Br6Zyqdm5MaL",
        "outputId": "edf5bdc5-2f11-456f-81b5-f3381b07079c"
      },
      "execution_count": 45,
      "outputs": [
        {
          "output_type": "execute_result",
          "data": {
            "text/plain": [
              "array([[ 4,  6, 46, 73, 19, 38, 45,  0,  0,  0,  0,  0,  0,  0,  0,  0,\n",
              "         0,  0,  0,  0,  0,  0,  0,  0,  0,  0,  0,  0,  0,  0,  0,  0,\n",
              "         0,  0,  0,  0,  0,  0,  0,  0,  0,  0,  0,  0,  0,  0,  0,  0,\n",
              "         0,  0,  0,  0,  0,  0,  0,  0,  0,  0,  0,  0,  0,  0,  0,  0,\n",
              "         0,  0,  0,  0,  0,  0,  0,  0,  0,  0,  0,  0,  0,  0,  0,  0,\n",
              "         0,  0,  0,  0,  0,  0,  0,  0,  0,  0,  0,  0,  0,  0,  0,  0,\n",
              "         0,  0,  0,  0],\n",
              "       [ 4, 75,  3, 29,  9,  2, 35,  3, 71, 20, 74, 13, 28,  8, 23, 34,\n",
              "        15,  0,  0,  0,  0,  0,  0,  0,  0,  0,  0,  0,  0,  0,  0,  0,\n",
              "         0,  0,  0,  0,  0,  0,  0,  0,  0,  0,  0,  0,  0,  0,  0,  0,\n",
              "         0,  0,  0,  0,  0,  0,  0,  0,  0,  0,  0,  0,  0,  0,  0,  0,\n",
              "         0,  0,  0,  0,  0,  0,  0,  0,  0,  0,  0,  0,  0,  0,  0,  0,\n",
              "         0,  0,  0,  0,  0,  0,  0,  0,  0,  0,  0,  0,  0,  0,  0,  0,\n",
              "         0,  0,  0,  0],\n",
              "       [ 7, 42, 57, 77,  6, 49, 41, 56, 76,  0,  0,  0,  0,  0,  0,  0,\n",
              "         0,  0,  0,  0,  0,  0,  0,  0,  0,  0,  0,  0,  0,  0,  0,  0,\n",
              "         0,  0,  0,  0,  0,  0,  0,  0,  0,  0,  0,  0,  0,  0,  0,  0,\n",
              "         0,  0,  0,  0,  0,  0,  0,  0,  0,  0,  0,  0,  0,  0,  0,  0,\n",
              "         0,  0,  0,  0,  0,  0,  0,  0,  0,  0,  0,  0,  0,  0,  0,  0,\n",
              "         0,  0,  0,  0,  0,  0,  0,  0,  0,  0,  0,  0,  0,  0,  0,  0,\n",
              "         0,  0,  0,  0],\n",
              "       [ 2, 33, 62,  5, 48, 70,  2, 31, 55, 53, 22, 32, 61, 10, 47, 69,\n",
              "        21, 30, 54,  0,  0,  0,  0,  0,  0,  0,  0,  0,  0,  0,  0,  0,\n",
              "         0,  0,  0,  0,  0,  0,  0,  0,  0,  0,  0,  0,  0,  0,  0,  0,\n",
              "         0,  0,  0,  0,  0,  0,  0,  0,  0,  0,  0,  0,  0,  0,  0,  0,\n",
              "         0,  0,  0,  0,  0,  0,  0,  0,  0,  0,  0,  0,  0,  0,  0,  0,\n",
              "         0,  0,  0,  0,  0,  0,  0,  0,  0,  0,  0,  0,  0,  0,  0,  0,\n",
              "         0,  0,  0,  0],\n",
              "       [ 2, 64,  3, 52,  9,  2, 68,  5, 60, 24, 63, 14, 51,  8, 25, 67,\n",
              "        11,  0,  0,  0,  0,  0,  0,  0,  0,  0,  0,  0,  0,  0,  0,  0,\n",
              "         0,  0,  0,  0,  0,  0,  0,  0,  0,  0,  0,  0,  0,  0,  0,  0,\n",
              "         0,  0,  0,  0,  0,  0,  0,  0,  0,  0,  0,  0,  0,  0,  0,  0,\n",
              "         0,  0,  0,  0,  0,  0,  0,  0,  0,  0,  0,  0,  0,  0,  0,  0,\n",
              "         0,  0,  0,  0,  0,  0,  0,  0,  0,  0,  0,  0,  0,  0,  0,  0,\n",
              "         0,  0,  0,  0],\n",
              "       [ 7, 66, 59, 40, 44, 17,  4, 37,  3, 27, 72, 50, 65, 58, 39, 43,\n",
              "        16, 18, 36, 12, 26,  0,  0,  0,  0,  0,  0,  0,  0,  0,  0,  0,\n",
              "         0,  0,  0,  0,  0,  0,  0,  0,  0,  0,  0,  0,  0,  0,  0,  0,\n",
              "         0,  0,  0,  0,  0,  0,  0,  0,  0,  0,  0,  0,  0,  0,  0,  0,\n",
              "         0,  0,  0,  0,  0,  0,  0,  0,  0,  0,  0,  0,  0,  0,  0,  0,\n",
              "         0,  0,  0,  0,  0,  0,  0,  0,  0,  0,  0,  0,  0,  0,  0,  0,\n",
              "         0,  0,  0,  0]], dtype=int32)"
            ]
          },
          "metadata": {},
          "execution_count": 45
        }
      ]
    },
    {
      "cell_type": "code",
      "source": [
        "model = Sequential()\n",
        "model.add(Dense(64, activation='relu', input_shape=(max_len,)))\n",
        "model.add(Dense(1, activation='sigmoid'))"
      ],
      "metadata": {
        "id": "jzr7FyWW5X0P"
      },
      "execution_count": 46,
      "outputs": []
    },
    {
      "cell_type": "code",
      "source": [
        "model.compile(loss='binary_crossentropy', optimizer='adam', metrics=['accuracy'])\n",
        "\n",
        "model.fit(X,labels, batch_size=32, epochs=1)"
      ],
      "metadata": {
        "colab": {
          "base_uri": "https://localhost:8080/"
        },
        "id": "li4BL3TB6dWM",
        "outputId": "66b60964-fcfd-4ca6-ca10-2a3d5d3f2c58"
      },
      "execution_count": 47,
      "outputs": [
        {
          "output_type": "stream",
          "name": "stdout",
          "text": [
            "1/1 [==============================] - 1s 1s/step - loss: 6.4438 - accuracy: 0.5000\n"
          ]
        },
        {
          "output_type": "execute_result",
          "data": {
            "text/plain": [
              "<keras.callbacks.History at 0x7f2eeddbf910>"
            ]
          },
          "metadata": {},
          "execution_count": 47
        }
      ]
    },
    {
      "cell_type": "code",
      "source": [
        "model.fit(X, labels, batch_size=32,epochs=1)"
      ],
      "metadata": {
        "colab": {
          "base_uri": "https://localhost:8080/"
        },
        "id": "dU0YRE5B7eAN",
        "outputId": "2e32bd2b-1c1f-4995-fa31-2b6303898e39"
      },
      "execution_count": 48,
      "outputs": [
        {
          "output_type": "stream",
          "name": "stdout",
          "text": [
            "1/1 [==============================] - 0s 11ms/step - loss: 5.2859 - accuracy: 0.5000\n"
          ]
        },
        {
          "output_type": "execute_result",
          "data": {
            "text/plain": [
              "<keras.callbacks.History at 0x7f2eed6c5c40>"
            ]
          },
          "metadata": {},
          "execution_count": 48
        }
      ]
    },
    {
      "cell_type": "code",
      "source": [
        "new_texts = [\n",
        "    \"I was blown away by this model!\"\n",
        "]"
      ],
      "metadata": {
        "id": "dtOArPxGAmxW"
      },
      "execution_count": null,
      "outputs": []
    }
  ]
}